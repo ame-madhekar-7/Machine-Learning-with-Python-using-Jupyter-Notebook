{
 "cells": [
  {
   "cell_type": "code",
   "execution_count": 1,
   "metadata": {},
   "outputs": [],
   "source": [
    "import pandas as pd"
   ]
  },
  {
   "cell_type": "code",
   "execution_count": 28,
   "metadata": {},
   "outputs": [
    {
     "data": {
      "text/html": [
       "<div>\n",
       "<style scoped>\n",
       "    .dataframe tbody tr th:only-of-type {\n",
       "        vertical-align: middle;\n",
       "    }\n",
       "\n",
       "    .dataframe tbody tr th {\n",
       "        vertical-align: top;\n",
       "    }\n",
       "\n",
       "    .dataframe thead th {\n",
       "        text-align: right;\n",
       "    }\n",
       "</style>\n",
       "<table border=\"1\" class=\"dataframe\">\n",
       "  <thead>\n",
       "    <tr style=\"text-align: right;\">\n",
       "      <th></th>\n",
       "      <th>Win/Loss</th>\n",
       "      <th>Optimism</th>\n",
       "      <th>Pessimism</th>\n",
       "      <th>PastUsed</th>\n",
       "      <th>FutureUsed</th>\n",
       "      <th>PresentUsed</th>\n",
       "      <th>OwnPartyCount</th>\n",
       "      <th>OppPartyCount</th>\n",
       "      <th>NumericContent</th>\n",
       "      <th>Extra</th>\n",
       "      <th>Emoti</th>\n",
       "      <th>Agree</th>\n",
       "      <th>Consc</th>\n",
       "      <th>Openn</th>\n",
       "    </tr>\n",
       "  </thead>\n",
       "  <tbody>\n",
       "    <tr>\n",
       "      <td>0</td>\n",
       "      <td>1</td>\n",
       "      <td>0.104505</td>\n",
       "      <td>0.050450</td>\n",
       "      <td>0.438144</td>\n",
       "      <td>0.494845</td>\n",
       "      <td>0.067010</td>\n",
       "      <td>2</td>\n",
       "      <td>2</td>\n",
       "      <td>0.001878</td>\n",
       "      <td>4.041</td>\n",
       "      <td>4.049</td>\n",
       "      <td>3.469</td>\n",
       "      <td>2.450</td>\n",
       "      <td>2.548</td>\n",
       "    </tr>\n",
       "    <tr>\n",
       "      <td>1</td>\n",
       "      <td>1</td>\n",
       "      <td>0.114575</td>\n",
       "      <td>0.059236</td>\n",
       "      <td>0.291262</td>\n",
       "      <td>0.621359</td>\n",
       "      <td>0.087379</td>\n",
       "      <td>1</td>\n",
       "      <td>4</td>\n",
       "      <td>0.001419</td>\n",
       "      <td>3.446</td>\n",
       "      <td>3.633</td>\n",
       "      <td>3.528</td>\n",
       "      <td>2.402</td>\n",
       "      <td>2.831</td>\n",
       "    </tr>\n",
       "    <tr>\n",
       "      <td>2</td>\n",
       "      <td>1</td>\n",
       "      <td>0.112572</td>\n",
       "      <td>0.049302</td>\n",
       "      <td>0.415966</td>\n",
       "      <td>0.516807</td>\n",
       "      <td>0.067227</td>\n",
       "      <td>1</td>\n",
       "      <td>1</td>\n",
       "      <td>0.002131</td>\n",
       "      <td>3.463</td>\n",
       "      <td>4.039</td>\n",
       "      <td>3.284</td>\n",
       "      <td>2.159</td>\n",
       "      <td>2.465</td>\n",
       "    </tr>\n",
       "    <tr>\n",
       "      <td>3</td>\n",
       "      <td>1</td>\n",
       "      <td>0.107234</td>\n",
       "      <td>0.046320</td>\n",
       "      <td>0.463492</td>\n",
       "      <td>0.466667</td>\n",
       "      <td>0.069841</td>\n",
       "      <td>1</td>\n",
       "      <td>3</td>\n",
       "      <td>0.001872</td>\n",
       "      <td>4.195</td>\n",
       "      <td>4.661</td>\n",
       "      <td>4.007</td>\n",
       "      <td>2.801</td>\n",
       "      <td>3.067</td>\n",
       "    </tr>\n",
       "    <tr>\n",
       "      <td>4</td>\n",
       "      <td>1</td>\n",
       "      <td>0.105826</td>\n",
       "      <td>0.051724</td>\n",
       "      <td>0.334262</td>\n",
       "      <td>0.582173</td>\n",
       "      <td>0.083565</td>\n",
       "      <td>3</td>\n",
       "      <td>4</td>\n",
       "      <td>0.002229</td>\n",
       "      <td>4.658</td>\n",
       "      <td>4.023</td>\n",
       "      <td>3.283</td>\n",
       "      <td>2.415</td>\n",
       "      <td>2.836</td>\n",
       "    </tr>\n",
       "    <tr>\n",
       "      <td>...</td>\n",
       "      <td>...</td>\n",
       "      <td>...</td>\n",
       "      <td>...</td>\n",
       "      <td>...</td>\n",
       "      <td>...</td>\n",
       "      <td>...</td>\n",
       "      <td>...</td>\n",
       "      <td>...</td>\n",
       "      <td>...</td>\n",
       "      <td>...</td>\n",
       "      <td>...</td>\n",
       "      <td>...</td>\n",
       "      <td>...</td>\n",
       "      <td>...</td>\n",
       "    </tr>\n",
       "    <tr>\n",
       "      <td>1519</td>\n",
       "      <td>0</td>\n",
       "      <td>0.163366</td>\n",
       "      <td>0.059406</td>\n",
       "      <td>0.400000</td>\n",
       "      <td>0.500000</td>\n",
       "      <td>0.100000</td>\n",
       "      <td>0</td>\n",
       "      <td>3</td>\n",
       "      <td>0.001393</td>\n",
       "      <td>1.100</td>\n",
       "      <td>3.737</td>\n",
       "      <td>4.547</td>\n",
       "      <td>3.227</td>\n",
       "      <td>4.270</td>\n",
       "    </tr>\n",
       "    <tr>\n",
       "      <td>1520</td>\n",
       "      <td>0</td>\n",
       "      <td>0.115468</td>\n",
       "      <td>0.034858</td>\n",
       "      <td>0.522727</td>\n",
       "      <td>0.250000</td>\n",
       "      <td>0.227273</td>\n",
       "      <td>0</td>\n",
       "      <td>0</td>\n",
       "      <td>0.001474</td>\n",
       "      <td>3.496</td>\n",
       "      <td>3.998</td>\n",
       "      <td>4.973</td>\n",
       "      <td>4.882</td>\n",
       "      <td>4.289</td>\n",
       "    </tr>\n",
       "    <tr>\n",
       "      <td>1521</td>\n",
       "      <td>0</td>\n",
       "      <td>0.117506</td>\n",
       "      <td>0.077938</td>\n",
       "      <td>0.413534</td>\n",
       "      <td>0.360902</td>\n",
       "      <td>0.225564</td>\n",
       "      <td>1</td>\n",
       "      <td>0</td>\n",
       "      <td>0.001217</td>\n",
       "      <td>4.588</td>\n",
       "      <td>3.612</td>\n",
       "      <td>4.193</td>\n",
       "      <td>4.465</td>\n",
       "      <td>4.054</td>\n",
       "    </tr>\n",
       "    <tr>\n",
       "      <td>1522</td>\n",
       "      <td>0</td>\n",
       "      <td>0.081967</td>\n",
       "      <td>0.071038</td>\n",
       "      <td>0.318182</td>\n",
       "      <td>0.590909</td>\n",
       "      <td>0.090909</td>\n",
       "      <td>0</td>\n",
       "      <td>5</td>\n",
       "      <td>0.010685</td>\n",
       "      <td>1.237</td>\n",
       "      <td>1.769</td>\n",
       "      <td>3.255</td>\n",
       "      <td>4.164</td>\n",
       "      <td>4.379</td>\n",
       "    </tr>\n",
       "    <tr>\n",
       "      <td>1523</td>\n",
       "      <td>0</td>\n",
       "      <td>0.123539</td>\n",
       "      <td>0.065622</td>\n",
       "      <td>0.328386</td>\n",
       "      <td>0.512059</td>\n",
       "      <td>0.159555</td>\n",
       "      <td>33</td>\n",
       "      <td>15</td>\n",
       "      <td>0.002147</td>\n",
       "      <td>6.435</td>\n",
       "      <td>3.921</td>\n",
       "      <td>4.852</td>\n",
       "      <td>5.643</td>\n",
       "      <td>4.462</td>\n",
       "    </tr>\n",
       "  </tbody>\n",
       "</table>\n",
       "<p>1524 rows × 14 columns</p>\n",
       "</div>"
      ],
      "text/plain": [
       "      Win/Loss  Optimism  Pessimism  PastUsed  FutureUsed  PresentUsed  \\\n",
       "0            1  0.104505   0.050450  0.438144    0.494845     0.067010   \n",
       "1            1  0.114575   0.059236  0.291262    0.621359     0.087379   \n",
       "2            1  0.112572   0.049302  0.415966    0.516807     0.067227   \n",
       "3            1  0.107234   0.046320  0.463492    0.466667     0.069841   \n",
       "4            1  0.105826   0.051724  0.334262    0.582173     0.083565   \n",
       "...        ...       ...        ...       ...         ...          ...   \n",
       "1519         0  0.163366   0.059406  0.400000    0.500000     0.100000   \n",
       "1520         0  0.115468   0.034858  0.522727    0.250000     0.227273   \n",
       "1521         0  0.117506   0.077938  0.413534    0.360902     0.225564   \n",
       "1522         0  0.081967   0.071038  0.318182    0.590909     0.090909   \n",
       "1523         0  0.123539   0.065622  0.328386    0.512059     0.159555   \n",
       "\n",
       "      OwnPartyCount  OppPartyCount  NumericContent  Extra  Emoti  Agree  \\\n",
       "0                 2              2        0.001878  4.041  4.049  3.469   \n",
       "1                 1              4        0.001419  3.446  3.633  3.528   \n",
       "2                 1              1        0.002131  3.463  4.039  3.284   \n",
       "3                 1              3        0.001872  4.195  4.661  4.007   \n",
       "4                 3              4        0.002229  4.658  4.023  3.283   \n",
       "...             ...            ...             ...    ...    ...    ...   \n",
       "1519              0              3        0.001393  1.100  3.737  4.547   \n",
       "1520              0              0        0.001474  3.496  3.998  4.973   \n",
       "1521              1              0        0.001217  4.588  3.612  4.193   \n",
       "1522              0              5        0.010685  1.237  1.769  3.255   \n",
       "1523             33             15        0.002147  6.435  3.921  4.852   \n",
       "\n",
       "      Consc  Openn  \n",
       "0     2.450  2.548  \n",
       "1     2.402  2.831  \n",
       "2     2.159  2.465  \n",
       "3     2.801  3.067  \n",
       "4     2.415  2.836  \n",
       "...     ...    ...  \n",
       "1519  3.227  4.270  \n",
       "1520  4.882  4.289  \n",
       "1521  4.465  4.054  \n",
       "1522  4.164  4.379  \n",
       "1523  5.643  4.462  \n",
       "\n",
       "[1524 rows x 14 columns]"
      ]
     },
     "execution_count": 28,
     "metadata": {},
     "output_type": "execute_result"
    }
   ],
   "source": [
    "df = pd.read_csv('US Presidential Data.csv')\n",
    "df"
   ]
  },
  {
   "cell_type": "code",
   "execution_count": 31,
   "metadata": {},
   "outputs": [],
   "source": [
    "X = df[['Optimism', 'PastUsed', 'Pessimism', 'FutureUsed', 'PresentUsed', 'OwnPartyCount', 'NumericContent', 'Extra', 'Emoti', 'Agree', 'Consc', 'Openn']]\n",
    "y = df['Win/Loss']"
   ]
  },
  {
   "cell_type": "code",
   "execution_count": 5,
   "metadata": {},
   "outputs": [],
   "source": [
    "from sklearn.model_selection import train_test_split"
   ]
  },
  {
   "cell_type": "code",
   "execution_count": 32,
   "metadata": {},
   "outputs": [],
   "source": [
    "X_train, X_test, y_train, y_test = train_test_split(X,y,test_size=0.2)"
   ]
  },
  {
   "cell_type": "code",
   "execution_count": 19,
   "metadata": {},
   "outputs": [],
   "source": [
    "from sklearn.preprocessing import StandardScaler\n",
    "Scaler = StandardScaler()"
   ]
  },
  {
   "cell_type": "code",
   "execution_count": 33,
   "metadata": {},
   "outputs": [],
   "source": [
    "Scaler.fit(X_train)\n",
    "X_train = Scaler.transform(X_train)\n",
    "X_test = Scaler.transform(X_test)"
   ]
  },
  {
   "cell_type": "code",
   "execution_count": 7,
   "metadata": {},
   "outputs": [],
   "source": [
    "from sklearn.linear_model import LogisticRegression"
   ]
  },
  {
   "cell_type": "code",
   "execution_count": 34,
   "metadata": {},
   "outputs": [
    {
     "name": "stderr",
     "output_type": "stream",
     "text": [
      "C:\\Users\\Lenovo\\Anaconda3\\lib\\site-packages\\sklearn\\linear_model\\logistic.py:432: FutureWarning: Default solver will be changed to 'lbfgs' in 0.22. Specify a solver to silence this warning.\n",
      "  FutureWarning)\n"
     ]
    },
    {
     "data": {
      "text/plain": [
       "0.7344262295081967"
      ]
     },
     "execution_count": 34,
     "metadata": {},
     "output_type": "execute_result"
    }
   ],
   "source": [
    "Model_LR1 = LogisticRegression()\n",
    "Model_LR1.fit(X_train,y_train)\n",
    "Model_LR1.score(X_test,y_test)"
   ]
  },
  {
   "cell_type": "code",
   "execution_count": 16,
   "metadata": {},
   "outputs": [],
   "source": [
    "from sklearn.metrics import confusion_matrix"
   ]
  },
  {
   "cell_type": "code",
   "execution_count": 35,
   "metadata": {},
   "outputs": [
    {
     "data": {
      "text/plain": [
       "array([[ 87,  56],\n",
       "       [ 25, 137]], dtype=int64)"
      ]
     },
     "execution_count": 35,
     "metadata": {},
     "output_type": "execute_result"
    }
   ],
   "source": [
    "cm = confusion_matrix(y_test,Model_LR1.predict(X_test))\n",
    "cm"
   ]
  },
  {
   "cell_type": "code",
   "execution_count": null,
   "metadata": {},
   "outputs": [],
   "source": []
  }
 ],
 "metadata": {
  "kernelspec": {
   "display_name": "Python 3",
   "language": "python",
   "name": "python3"
  },
  "language_info": {
   "codemirror_mode": {
    "name": "ipython",
    "version": 3
   },
   "file_extension": ".py",
   "mimetype": "text/x-python",
   "name": "python",
   "nbconvert_exporter": "python",
   "pygments_lexer": "ipython3",
   "version": "3.7.4"
  }
 },
 "nbformat": 4,
 "nbformat_minor": 2
}
